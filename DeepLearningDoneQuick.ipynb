{
 "cells": [
  {
   "cell_type": "code",
   "execution_count": 1,
   "metadata": {
    "collapsed": true
   },
   "outputs": [],
   "source": [
    "trainset = torch.load('cifar10-train.t7')\n",
    "testset = torch.load('cifar10-test.t7')\n",
    "classes = {'airplane', 'automobile', 'bird', 'cat',\n",
    "           'deer', 'dog', 'frog', 'horse', 'ship', 'truck'}\n",
    "\n"
   ]
  },
  {
   "cell_type": "code",
   "execution_count": 2,
   "metadata": {
    "collapsed": false
   },
   "outputs": [],
   "source": [
    "print(trainset)"
   ]
  },
  {
   "cell_type": "code",
   "execution_count": 3,
   "metadata": {
    "collapsed": false
   },
   "outputs": [
    {
     "data": {
      "text/plain": [
       "{\n",
       "  data : ByteTensor - size: 10000x3x32x32\n",
       "  label : ByteTensor - size: 10000\n",
       "}\n"
      ]
     },
     "execution_count": 3,
     "metadata": {},
     "output_type": "execute_result"
    },
    {
     "data": {
      "image/png": "[encoded data removed]",
      "text/plain": [
       "Console does not support images"
      ]
     },
     "metadata": {
      "image/png": {
       "height": 32,
       "width": 32
      }
     },
     "output_type": "display_data"
    }
   ],
   "source": [
    "itorch.image(trainset.data[100])"
   ]
  },
  {
   "cell_type": "code",
   "execution_count": 4,
   "metadata": {
    "collapsed": false
   },
   "outputs": [
    {
     "data": {
      "text/plain": [
       "\n",
       "automobile\t\n"
      ]
     },
     "execution_count": 4,
     "metadata": {},
     "output_type": "execute_result"
    }
   ],
   "source": [
    "print(classes[trainset.label[100]])"
   ]
  },
  {
   "cell_type": "code",
   "execution_count": 5,
   "metadata": {
    "collapsed": false
   },
   "outputs": [],
   "source": [
    "-- ignore setmetatable for now, it is a feature beyond the scope of this tutorial. It sets the index operator.\n",
    "setmetatable(trainset, \n",
    "    {__index = function(t, i) \n",
    "                    return {t.data[i], t.label[i]} \n",
    "                end}\n",
    ");\n",
    "trainset.data = trainset.data:double() -- convert the data from a ByteTensor to a DoubleTensor.\n",
    "\n",
    "function trainset:size() \n",
    "    return self.data:size(1) \n",
    "end"
   ]
  },
  {
   "cell_type": "code",
   "execution_count": 6,
   "metadata": {
    "collapsed": false
   },
   "outputs": [
    {
     "data": {
      "text/plain": [
       "10000\t\n",
       "{\n",
       "  1 : DoubleTensor - size: 3x32x32\n",
       "  2 : 2\n",
       "}\n"
      ]
     },
     "execution_count": 6,
     "metadata": {},
     "output_type": "execute_result"
    }
   ],
   "source": [
    "print(trainset:size())\n",
    "print(trainset[33])"
   ]
  },
  {
   "cell_type": "raw",
   "metadata": {},
   "source": []
  },
  {
   "cell_type": "code",
   "execution_count": 7,
   "metadata": {
    "collapsed": false
   },
   "outputs": [
    {
     "data": {
      "image/png": "[encoded data removed]",
      "text/plain": [
       "Console does not support images"
      ]
     },
     "metadata": {
      "image/png": {
       "height": 32,
       "width": 32
      }
     },
     "output_type": "display_data"
    },
    {
     "data": {
      "text/plain": [
       "\n"
      ]
     },
     "execution_count": 7,
     "metadata": {},
     "output_type": "execute_result"
    }
   ],
   "source": [
    "        itorch.image(trainset[33][1])"
   ]
  },
  {
   "cell_type": "code",
   "execution_count": 8,
   "metadata": {
    "collapsed": true
   },
   "outputs": [],
   "source": [
    "redChannel = trainset.data[{{},{1}, {}, {}}]\n"
   ]
  },
  {
   "cell_type": "code",
   "execution_count": 9,
   "metadata": {
    "collapsed": false
   },
   "outputs": [
    {
     "data": {
      "text/plain": [
       " 10000\n",
       "     1\n",
       "    32\n",
       "    32\n",
       "[torch.LongStorage of size 4]\n",
       "\n"
      ]
     },
     "execution_count": 9,
     "metadata": {},
     "output_type": "execute_result"
    }
   ],
   "source": [
    "print(#redChannel)"
   ]
  },
  {
   "cell_type": "code",
   "execution_count": 10,
   "metadata": {
    "collapsed": false
   },
   "outputs": [
    {
     "data": {
      "text/plain": [
       "{\n",
       "  1 : DoubleTensor - size: 151x3x32x32\n",
       "  2 : ByteTensor - size: 151\n",
       "}\n"
      ]
     },
     "execution_count": 10,
     "metadata": {},
     "output_type": "execute_result"
    }
   ],
   "source": [
    "trainset[{{150, 300}}]"
   ]
  },
  {
   "cell_type": "code",
   "execution_count": 11,
   "metadata": {
    "collapsed": false
   },
   "outputs": [
    {
     "data": {
      "text/plain": [
       "Channel 1, Mean: 125.83175029297\t\n"
      ]
     },
     "execution_count": 11,
     "metadata": {},
     "output_type": "execute_result"
    },
    {
     "data": {
      "text/plain": [
       "Channel 1, Std: 63.143400842609\t\n"
      ]
     },
     "execution_count": 11,
     "metadata": {},
     "output_type": "execute_result"
    },
    {
     "data": {
      "text/plain": [
       "Channel 2, Mean: 123.26066621094\t\n"
      ]
     },
     "execution_count": 11,
     "metadata": {},
     "output_type": "execute_result"
    },
    {
     "data": {
      "text/plain": [
       "Channel 2, Std: 1.000000000008\t\n"
      ]
     },
     "execution_count": 11,
     "metadata": {},
     "output_type": "execute_result"
    },
    {
     "data": {
      "text/plain": [
       "Channel 3, Mean: 114.03068681641\t\n"
      ]
     },
     "execution_count": 11,
     "metadata": {},
     "output_type": "execute_result"
    },
    {
     "data": {
      "text/plain": [
       "Channel 3, Std: 0.99999999998938\t\n"
      ]
     },
     "execution_count": 11,
     "metadata": {},
     "output_type": "execute_result"
    }
   ],
   "source": [
    "mean = {}\n",
    "stdv = {}\n",
    "for i=1,3 do\n",
    "    mean[i] = trainset.data[{{}, {i}, {}, {}}]:mean()\n",
    "    print('Channel '..i..', Mean: '..mean[i])\n",
    "    trainset.data[{{}, {1}, {}, {}}]:add(-mean[i])\n",
    "    \n",
    "    stdv[i] = trainset.data[{{}, {1}, {}, {}}]:std()\n",
    "    print('Channel '..i..', Std: '..stdv[i])\n",
    "    trainset.data[{{}, {1}, {}, {}}]:div(stdv[i])\n",
    "end\n"
   ]
  },
  {
   "cell_type": "code",
   "execution_count": 12,
   "metadata": {
    "collapsed": false
   },
   "outputs": [
    {
     "data": {
      "text/plain": [
       "{\n",
       "  VolumetricMaxUnpooling : table: 0x1ebadb78\n",
       "  ConcatTable : table: 0x1ebb75a8\n",
       "  MV : table: 0x1ebfc568\n",
       "  SpatialAveragePooling : table: 0x1eac5cb8\n",
       "  SpatialConvolutionMM : table: 0x1ead3248\n",
       "  Reshape : table: 0x0c1e3a60\n",
       "  Jacobian : \n",
       "    {\n",
       "      forward : function: 0x1ec046a8\n",
       "      testAllUpdate : function: 0x1ec04828\n",
       "      testDiagHessianInput : function: 0x1ec047a8\n",
       "      testDiagHessianWeight : function: 0x1ec047c8\n",
       "      testDiagHessianBias : function: 0x1ec047e8\n",
       "      testDiagHessian : function: 0x1ec04788\n",
       "      testJacobian : function: 0x1ec04728\n",
       "      testIO : function: 0x1ec04808\n",
       "      testJacobianUpdateParameters : function: 0x1ec04768\n",
       "      backwardDiagHessian : function: 0x1ec046c8\n",
       "      testJacobianParameters : function: 0x1ec04748\n",
       "      backwardUpdate : function: 0x1ec04688\n",
       "      forwardUpdate : function: 0x1ec04708\n",
       "      backward : function: 0x1ec04630\n",
       "      linearModuleDiagHessian : function: 0x1ec046e8\n",
       "    }\n",
       "  SparseLinear : table: 0x0c1b4840\n",
       "  SoftMarginCriterion : table: 0x1ebce868\n",
       "  SpatialCrossMapLRN : table: 0x1eb939e0\n",
       "  CAddTable : table: 0x0c54ff30\n",
       "  TemporalConvolution : table: 0x1eae8ea8\n",
       "  PairwiseDistance : table: 0x0c5608d0\n",
       "  WeightedMSECriterion : table: 0x1ebef298\n",
       "  SmoothL1Criterion : table: 0x1ebcbbb8\n",
       "  SpatialLPPooling : table: 0x1eac3180\n",
       "  PartialLinear : table: 0x0c563df8\n",
       "  TanhShrink : table: 0x1ea9b0e8\n",
       "  MixtureTable : table: 0x1ebc09c8\n",
       "  MSECriterion : table: 0x1ebca420\n",
       "  LogSoftMax : table: 0x1eab8e58\n",
       "  Identity : table: 0x1ebc6690\n",
       "  Exp : table: 0x1eab5500\n",
       "  Add : table: 0x0c1aa088\n",
       "  SpatialConvolutionLocal : table: 0x1eafb520\n",
       "  Squeeze : table: 0x0c55d098\n",
       "  AbsCriterion : table: 0x1ebcff80\n",
       "  MultiCriterion : table: 0x1ebd8450\n",
       "  Max : table: 0x0c150df0\n",
       "  MulConstant : table: 0x1eaa1750\n",
       "  NarrowTable : table: 0x1ebc51a8\n",
       "  View : table: 0x0bd17d28\n",
       "  VolumetricConvolution : table: 0x1eb972b8\n",
       "  SpatialSubSampling : table: 0x1ead9930\n",
       "  HardTanh : table: 0x0c162da8\n",
       "  DistKLDivCriterion : table: 0x1ebd6788\n",
       "  SplitTable : table: 0x1ebb8690\n",
       "  DotProduct : table: 0x1eb05c58\n",
       "  HingeEmbeddingCriterion : table: 0x1ebca868\n",
       "  SpatialBatchNormalization : table: 0x1eb9d290\n",
       "  DepthConcat : table: 0x1eaac2c8\n",
       "  CMulTable : table: 0x0c1c0c30\n",
       "  SpatialAdaptiveMaxPooling : table: 0x1eac3af8\n",
       "  Parallel : table: 0x0c54e038\n",
       "  SoftShrink : table: 0x1eb09980\n",
       "  SpatialSubtractiveNormalization : table: 0x1eaeec78\n",
       "  Log : table: 0x1eab6790\n",
       "  VolumetricDropout : table: 0x0c1f7d88\n",
       "  SpatialDropout : table: 0x0c186750\n",
       "  LeakyReLU : table: 0x1eaf2318\n",
       "  VolumetricMaxPooling : table: 0x1ebab2c8\n",
       "  hessian : \n",
       "    {\n",
       "      enable : function: 0x1ec11358\n",
       "    }\n",
       "  Linear : table: 0x1eaabe10\n",
       "  Euclidean : table: 0x1eaa8458\n",
       "  CriterionTable : table: 0x1ebc1720\n",
       "  SpatialMaxPooling : table: 0x1eb050d8\n",
       "  MultiMarginCriterion : table: 0x1ebe7340\n",
       "  ELU : table: 0x1eaf6c78\n",
       "  Threshold : table: 0x1eb0ba80\n",
       "  SpatialReflectionPadding : table: 0x1eb98590\n",
       "  Copy : table: 0x0bd3e638\n",
       "  L1HingeEmbeddingCriterion : table: 0x1ebcc598\n",
       "  VolumetricAveragePooling : table: 0x1ebafba8\n",
       "  StochasticGradient : table: 0x1ebf70a0\n",
       "  SpatialContrastiveNormalization : table: 0x1eb8fdb8\n",
       "  Bilinear : table: 0x1eab2448\n",
       "  SpatialReplicationPadding : table: 0x1eb9a890\n",
       "  CDivTable : table: 0x0c5602a8\n",
       "  Container : table: 0x0c1c5620\n",
       "  MarginRankingCriterion : table: 0x1ebe5960\n",
       "  Module : table: 0x0c1fca10\n",
       "  VolumetricFullConvolution : table: 0x1eba4e38\n",
       "  Concat : table: 0x1ea97900\n",
       "  CrossEntropyCriterion : table: 0x1ebf3058\n",
       "  LookupTable : table: 0x1eb10bf0\n",
       "  MarginCriterion : table: 0x1ebcd220\n",
       "  HardShrink : table: 0x1eb08448\n",
       "  Abs : table: 0x1ea99060\n",
       "  SparseJacobian : \n",
       "    {\n",
       "      forward : function: 0x1ec08f68\n",
       "      testJacobian : function: 0x1ec08fa8\n",
       "      testIO : function: 0x1ec09008\n",
       "      testAllUpdate : function: 0x1ec09028\n",
       "      testJacobianParameters : function: 0x1ec08fc8\n",
       "      testJacobianUpdateParameters : function: 0x1ec08fe8\n",
       "      forwardUpdate : function: 0x1ec08f88\n",
       "      backward : function: 0x1ec08ef0\n",
       "      backwardUpdate : function: 0x1ec08f48\n",
       "    }\n",
       "  SoftMin : table: 0x0c158320\n",
       "  WeightedEuclidean : table: 0x0c552bd8\n",
       "  VolumetricBatchNormaliz"
      ]
     },
     "execution_count": 12,
     "metadata": {},
     "output_type": "execute_result"
    },
    {
     "data": {
      "text/plain": [
       "ation : table: 0x1ebb0b10\n",
       "  ClassSimplexCriterion : table: 0x1ebd5300\n",
       "  Contiguous : table: 0x0c1ca8c0\n",
       "  FlattenTable : table: 0x1ebc3508\n",
       "  PReLU : table: 0x1eb0d6d0\n",
       "  utils : \n",
       "    {\n",
       "      contiguousView : function: 0x0c54fda0\n",
       "      recursiveType : function: 0x0c54fd60\n",
       "      recursiveResizeAs : function: 0x1eab2370\n",
       "      recursiveAdd : function: 0x0c55aec0\n",
       "      clear : function: 0x1eab23b0\n",
       "      addSingletonDimension : function: 0x0c55aee0\n",
       "      recursiveFill : function: 0x1eab2390\n",
       "    }\n",
       "  JoinTable : table: 0x1ebbaf00\n",
       "  ClassNLLCriterion : table: 0x1ebd20f0\n",
       "  CMul : table: 0x1ea9f368\n",
       "  CosineDistance : table: 0x0c15bc68\n",
       "  Index : table: 0x0c1933d8\n",
       "  Mean : table: 0x0c1faad0\n",
       "  Dropout : table: 0x1ea9d750\n",
       "  SoftPlus : table: 0x0c159d00\n",
       "  SpatialDivisiveNormalization : table: 0x1eae5278\n",
       "  L1Penalty : table: 0x1ebed6e0\n",
       "  test : function: 0x1ec7be68\n",
       "  Power : table: 0x1eb9f428\n",
       "  Sqrt : table: 0x1eb9ec10\n",
       "  Sequential : table: 0x1eaa74c0\n",
       "  MM : table: 0x1ebf98c8\n",
       "  ParallelCriterion : table: 0x1ebf4fe0\n",
       "  Square : table: 0x1eba08a0\n",
       "  BCECriterion : table: 0x1ebf1968\n",
       "  L1Cost : table: 0x1ebebb08\n",
       "  MultiLabelSoftMarginCriterion : table: 0x1ebea4e0\n",
       "  MultiLabelMarginCriterion : table: 0x1ebe88f8\n",
       "  SoftMax : table: 0x1eab8840\n",
       "  CosineEmbeddingCriterion : table: 0x1ebe2ff0\n",
       "  Cosine : table: 0x1eb8c4e0\n",
       "  Clamp : table: 0x1eaf9b58\n",
       "  Unsqueeze : table: 0x0c1dbe90\n",
       "  LogSigmoid : table: 0x1eafa478\n",
       "  CSubTable : table: 0x0bd51000\n",
       "  TemporalMaxPooling : table: 0x1eaeb6a0\n",
       "  ParallelTable : table: 0x1ebb38a0\n",
       "  Sum : table: 0x0c1aab70\n",
       "  SoftSign : table: 0x0c158ca0\n",
       "  Min : table: 0x0c1b51d8\n",
       "  AddConstant : table: 0x0bd464c0\n",
       "  Replicate : table: 0x0c1e8d90\n",
       "  BatchNormalization : table: 0x0c1be4e0\n",
       "  Tanh : table: 0x1ea99b48\n",
       "  Transpose : table: 0x0bd44d90\n",
       "  Mul : table: 0x1eaa2ee0\n",
       "  Select : table: 0x0bd37090\n",
       "  Sigmoid : table: 0x1eaba428\n",
       "  Padding : table: 0x0c14fb28\n",
       "  GradientReversal : table: 0x0c1ca7a8\n",
       "  SpatialConvolution : table: 0x1eb15978\n",
       "  Criterion : table: 0x1ebc88f0\n",
       "  SpatialConvolutionMap : table: 0x1ead7808\n",
       "  ReLU : table: 0x1eb0c8c8\n",
       "  SpatialFullConvolutionMap : table: 0x1eb04ba0\n",
       "  tables : \n",
       "    {\n",
       "      full : function: 0x1ead78d0\n",
       "      oneToOne : function: 0x1ead78f0\n",
       "      random : function: 0x1ead7910\n",
       "    }\n",
       "  SpatialMaxUnpooling : table: 0x1eabdee8\n",
       "  SpatialFullConvolution : table: 0x1eb01ca8\n",
       "  TemporalSubSampling : table: 0x1eae9e80\n",
       "  RReLU : table: 0x1eaf5740\n",
       "  SpatialZeroPadding : table: 0x1eb96d10\n",
       "  SpatialUpSamplingNearest : table: 0x1eb9c558\n",
       "  Narrow : table: 0x0c1ec668\n"
      ]
     },
     "execution_count": 12,
     "metadata": {},
     "output_type": "execute_result"
    }
   ],
   "source": [
    "require 'nn'"
   ]
  },
  {
   "cell_type": "code",
   "execution_count": 13,
   "metadata": {
    "collapsed": false
   },
   "outputs": [
    {
     "data": {
      "text/plain": [
       "  Normalize : table: 0x0c1a5c20\n",
       "  SpatialSoftMax : table: 0x1eaf3858\n",
       "  SelectTable : table: 0x1ebbc650\n",
       "  SpatialFractionalMaxPooling : table: 0x1eac1740\n",
       "}\n",
       "Lenet5\n",
       "nn.Sequential {\n",
       "  [input -> (1) -> (2) -> (3) -> (4) -> (5) -> (6) -> (7) -> (8) -> (9) -> (10) -> (11) -> (12) -> (13) -> output]\n",
       "  (1): nn.SpatialConvolution(3 -> 6, 5x5)\n",
       "  (2): nn.ReLU\n",
       "  (3): nn.SpatialMaxPooling(2x2, 2,2)\n",
       "  (4): nn.SpatialConvolution(6 -> 16, 5x5)\n",
       "  (5): nn.ReLU\n",
       "  (6): nn.SpatialMaxPooling(2x2, 2,2)\n",
       "  (7): nn.View(400)\n",
       "  (8): nn.Linear(400 -> 120)\n",
       "  (9): nn.ReLU\n",
       "  (10): nn.Linear(120 -> 84)\n",
       "  (11): nn.ReLU\n",
       "  (12): nn.Linear(84 -> 10)\n",
       "  (13): nn.LogSoftMax\n",
       "}\t\n"
      ]
     },
     "execution_count": 13,
     "metadata": {},
     "output_type": "execute_result"
    }
   ],
   "source": [
    "\n",
    "net = nn.Sequential()\n",
    "net:add(nn.SpatialConvolution(3, 6, 5, 5)) -- 1 input image channel, 6 output channels, 5x5 convolution kernel\n",
    "net:add(nn.ReLU())                       -- non-linearity \n",
    "net:add(nn.SpatialMaxPooling(2,2,2,2))     -- A max-pooling operation that looks at 2x2 windows and finds the max.\n",
    "net:add(nn.SpatialConvolution(6, 16, 5, 5))\n",
    "net:add(nn.ReLU())                       -- non-linearity \n",
    "net:add(nn.SpatialMaxPooling(2,2,2,2))\n",
    "net:add(nn.View(16*5*5))                    -- reshapes from a 3D tensor of 16x5x5 into 1D tensor of 16*5*5\n",
    "net:add(nn.Linear(16*5*5, 120))             -- fully connected layer (matrix multiplication between input and weights)\n",
    "net:add(nn.ReLU())                       -- non-linearity \n",
    "net:add(nn.Linear(120, 84))\n",
    "net:add(nn.ReLU())                       -- non-linearity \n",
    "net:add(nn.Linear(84, 10))                   -- 10 is the number of outputs of the network (in this case, 10 digits)\n",
    "net:add(nn.LogSoftMax())                     -- converts the output to a log-probability. Useful for classification problems\n",
    "\n",
    "print('Lenet5\\n' .. net:__tostring());"
   ]
  },
  {
   "cell_type": "code",
   "execution_count": 14,
   "metadata": {
    "collapsed": true
   },
   "outputs": [],
   "source": [
    "criterion = nn.ClassNLLCriterion()\n"
   ]
  },
  {
   "cell_type": "code",
   "execution_count": 15,
   "metadata": {
    "collapsed": true
   },
   "outputs": [],
   "source": [
    "trainer = nn.StochasticGradient(net, criterion)\n",
    "trainer.learningRate = 0.001\n",
    "trainer.maxIteration = 5"
   ]
  },
  {
   "cell_type": "code",
   "execution_count": null,
   "metadata": {
    "collapsed": false
   },
   "outputs": [
    {
     "data": {
      "text/plain": [
       "# StochasticGradient: training\t\n"
      ]
     },
     "execution_count": 16,
     "metadata": {},
     "output_type": "execute_result"
    },
    {
     "data": {
      "text/plain": [
       "# current error = 2.1685562169835\t\n"
      ]
     },
     "execution_count": 16,
     "metadata": {},
     "output_type": "execute_result"
    },
    {
     "data": {
      "text/plain": [
       "# current error = 1.9875203058007\t\n"
      ]
     },
     "execution_count": 16,
     "metadata": {},
     "output_type": "execute_result"
    },
    {
     "data": {
      "text/plain": [
       "# current error = 1.9294535370778\t\n"
      ]
     },
     "execution_count": 16,
     "metadata": {},
     "output_type": "execute_result"
    },
    {
     "data": {
      "text/plain": [
       "# current error = 1.8621449594778\t\n"
      ]
     },
     "execution_count": 16,
     "metadata": {},
     "output_type": "execute_result"
    }
   ],
   "source": [
    "trainer:train(trainset)"
   ]
  },
  {
   "cell_type": "code",
   "execution_count": null,
   "metadata": {
    "collapsed": false
   },
   "outputs": [],
   "source": [
    "print(classes[testset.label[100]])\n",
    "itorch.image(testset.data[100])"
   ]
  },
  {
   "cell_type": "code",
   "execution_count": null,
   "metadata": {
    "collapsed": true
   },
   "outputs": [],
   "source": [
    "testset.data = testset.data:double()\n",
    "for i=1,3 do -- over each image channel\n",
    "    testset.data[{ {}, {i}, {}, {}  }]:add(-mean[i]) -- mean subtraction    \n",
    "    testset.data[{ {}, {i}, {}, {}  }]:div(stdv[i]) -- std scaling\n",
    "end"
   ]
  },
  {
   "cell_type": "code",
   "execution_count": null,
   "metadata": {
    "collapsed": false
   },
   "outputs": [],
   "source": [
    "horse = testset.data[100]\n",
    "print(horse:mean(), horse:std())"
   ]
  },
  {
   "cell_type": "code",
   "execution_count": null,
   "metadata": {
    "collapsed": false
   },
   "outputs": [],
   "source": [
    "print(classes[testset.label[100]])\n",
    "itorch.image(testset.data[100])\n",
    "predicted = net:forward(testset.data[100])"
   ]
  },
  {
   "cell_type": "code",
   "execution_count": null,
   "metadata": {
    "collapsed": false
   },
   "outputs": [],
   "source": [
    "print(predicted:exp())\n"
   ]
  },
  {
   "cell_type": "code",
   "execution_count": null,
   "metadata": {
    "collapsed": false
   },
   "outputs": [],
   "source": [
    "for i = 1, predicted:size(1) do\n",
    "    print(classes[i], predicted[i])\n",
    "end"
   ]
  },
  {
   "cell_type": "code",
   "execution_count": null,
   "metadata": {
    "collapsed": false
   },
   "outputs": [],
   "source": [
    "correct = 0\n",
    "for i = 1, 10000 do\n",
    "    local groundTruth = testset.label[i]\n",
    "    local prediction = net:forward(testset.data[i])\n",
    "    local confidences, indices = torch.sort(prediction, true)\n",
    "    \n",
    "    if groundTruth == indices[1] then\n",
    "        correct = correct + 1\n",
    "    end\n",
    "end"
   ]
  },
  {
   "cell_type": "code",
   "execution_count": null,
   "metadata": {
    "collapsed": false
   },
   "outputs": [],
   "source": [
    "print(correct, 100*correct / 10000 .. '%')"
   ]
  },
  {
   "cell_type": "code",
   "execution_count": null,
   "metadata": {
    "collapsed": true
   },
   "outputs": [],
   "source": [
    "class_perf = {0,0,0,0,0,0,0,0,0,0}\n",
    "for i = 1, 10000 do\n",
    "    local groundTruth = testset.label[i]\n",
    "    local prediction = net:forward(testset.data[i])\n",
    "    local confidences, indices = torch.sort(prediction, true)\n",
    "    \n",
    "    if groundTruth == indices[1] then\n",
    "        class_perf[groundTruth] = class_perf[groundTruth] + 1\n",
    "    end\n",
    "end"
   ]
  },
  {
   "cell_type": "code",
   "execution_count": null,
   "metadata": {
    "collapsed": false
   },
   "outputs": [],
   "source": [
    "for i=1,#classes do\n",
    "    print(classes[i], 100*class_perf[i]/1000 ..'%')\n",
    "end"
   ]
  },
  {
   "cell_type": "code",
   "execution_count": null,
   "metadata": {
    "collapsed": true
   },
   "outputs": [],
   "source": []
  }
 ],
 "metadata": {
  "kernelspec": {
   "display_name": "iTorch",
   "language": "lua",
   "name": "itorch"
  },
  "language_info": {
   "name": "lua",
   "version": "5.1"
  }
 },
 "nbformat": 4,
 "nbformat_minor": 0
}
